{
 "cells": [
  {
   "cell_type": "code",
   "execution_count": 1,
   "id": "fb63029c",
   "metadata": {},
   "outputs": [],
   "source": [
    "import requests\n",
    "from pyscicat.client import ScicatClient\n",
    "from pyscicat.model import RawDataset, Ownable\n",
    "from datetime import datetime\n"
   ]
  },
  {
   "cell_type": "code",
   "execution_count": 2,
   "id": "4aef39a7",
   "metadata": {},
   "outputs": [],
   "source": [
    "BASE_URL=\"http://localhost:3000/api/v3/\"\n",
    "SCICAT_USER=\"ingestor\"\n",
    "SCICAT_PASSWORD=\"aman\""
   ]
  },
  {
   "cell_type": "markdown",
   "id": "cf6c8ca1",
   "metadata": {},
   "source": [
    "Adding a dataset to Scicat with the `ingestor` role. The dataset belongs to the `ingestor` and the `ingestor` group is an `admin` group. \n",
    "\n",
    "We test the following methods with both `pyscicat` and the `requests` package:\n",
    "* login on the datasets endpoint\n",
    "* post on the datasets endpoint\n",
    "* get on the datasets endpoint"
   ]
  },
  {
   "cell_type": "code",
   "execution_count": 3,
   "id": "c559a1f4",
   "metadata": {},
   "outputs": [
    {
     "name": "stdout",
     "output_type": "stream",
     "text": [
      "201\n"
     ]
    }
   ],
   "source": [
    "# Check that you can login to the Scicat API with requests \n",
    "r = requests.request(\"post\", BASE_URL + 'auth/login', json=dict(username='ingestor', password='aman'))\n",
    "token = r.json()['id']\n",
    "print(r.status_code)\n",
    "\n",
    "# Check you can make a connection with the Scicat Client\n",
    "sci_clie = ScicatClient(base_url=BASE_URL,\n",
    "                        token=None,\n",
    "                        username=SCICAT_USER,\n",
    "                        password=SCICAT_PASSWORD)\n"
   ]
  },
  {
   "cell_type": "code",
   "execution_count": 4,
   "id": "dd483587",
   "metadata": {},
   "outputs": [],
   "source": [
    "# Create Dataset with the admin owner group and as the ingestor role\n",
    "ownable = Ownable(ownerGroup=\"ingestor\", accessGroups=[])\n",
    "dataset_a = RawDataset(\n",
    "    datasetName=\"a new guide book\",\n",
    "    path=\"/foo/bar\",\n",
    "    size=42,\n",
    "    packedSize=0,\n",
    "    owner=SCICAT_USER,\n",
    "    contactEmail=\"slartibartfast@magrathea.org\",\n",
    "    creationLocation=\"Magrathea\",\n",
    "    creationTime=datetime.isoformat(datetime.now()),\n",
    "    instrumentId=\"earth\",\n",
    "    proposalId=\"deepthought\",\n",
    "    dataFormat=\"planet\",\n",
    "    principalInvestigator=\"A. Mouse\",\n",
    "    sourceFolder=\"/foo/bar\",\n",
    "    scientificMetadata={\"type\": \"string\", \"value\": {\"a\": \"field\"}},\n",
    "    sampleId=\"gargleblaster\",\n",
    "    type=\"raw\",\n",
    "    ownerEmail=\"scicatingestor@your.site\",\n",
    "    sourceFolderHost=\"s3.heartofgold.org\",\n",
    "    endTime=datetime.isoformat(datetime.now()),\n",
    "    techniques=[],\n",
    "    numberOfFiles=0,\n",
    "    numberOfFilesArchived=0,\n",
    "    **ownable.dict()\n",
    ")\n",
    "\n",
    "dataset_b = RawDataset(\n",
    "    datasetName=\"a BIGGER guide book\",\n",
    "    path=\"/foo/bar\",\n",
    "    size=42,\n",
    "    packedSize=0,\n",
    "    owner=SCICAT_USER,\n",
    "    contactEmail=\"slartibartfast@magrathea.org\",\n",
    "    creationLocation=\"Magrathea\",\n",
    "    creationTime=datetime.isoformat(datetime.now()),\n",
    "    instrumentId=\"earth\",\n",
    "    proposalId=\"deepthought\",\n",
    "    dataFormat=\"planet\",\n",
    "    principalInvestigator=\"A. Mouse\",\n",
    "    sourceFolder=\"/foo/bar\",\n",
    "    scientificMetadata={\"type\": \"string\", \"value\": {\"a\": \"field\"}},\n",
    "    sampleId=\"gargleblaster\",\n",
    "    type=\"raw\",\n",
    "    ownerEmail=\"scicatingestor@your.site\",\n",
    "    sourceFolderHost=\"s3.heartofgold.org\",\n",
    "    endTime=datetime.isoformat(datetime.now()),\n",
    "    techniques=[],\n",
    "    numberOfFiles=0,\n",
    "    numberOfFilesArchived=0,\n",
    "    **ownable.dict()\n",
    ")\n",
    "\n",
    "\n"
   ]
  },
  {
   "cell_type": "code",
   "execution_count": 5,
   "id": "3d9246c8",
   "metadata": {},
   "outputs": [
    {
     "name": "stdout",
     "output_type": "stream",
     "text": [
      "{\"createdBy\":\"ingestor\",\"updatedBy\":\"ingestor\",\"ownerGroup\":\"ingestor\",\"accessGroups\":[],\"owner\":\"ingestor\",\"ownerEmail\":\"scicatingestor@your.site\",\"contactEmail\":\"slartibartfast@magrathea.org\",\"sourceFolder\":\"/foo/bar\",\"sourceFolderHost\":\"s3.heartofgold.org\",\"size\":42,\"packedSize\":0,\"numberOfFiles\":0,\"numberOfFilesArchived\":0,\"creationTime\":\"2023-04-04T12:45:33.910Z\",\"type\":\"raw\",\"keywords\":[],\"datasetName\":\"a new guide book\",\"isPublished\":false,\"datasetlifecycle\":{\"archivable\":true,\"retrievable\":false,\"publishable\":false,\"dateOfDiskPurging\":\"2023-04-04T11:56:40.368Z\",\"publishedOn\":\"2023-04-04T11:56:40.368Z\",\"isOnCentralDisk\":true,\"archiveStatusMessage\":\"datasetCreated\",\"retrieveStatusMessage\":\"\",\"retrieveIntegrityCheck\":false,\"_id\":\"642c1bf03fc7fbae00ff5c84\",\"archiveRetentionTime\":\"2023-04-02T00:00:00.000Z\",\"dateOfPublishing\":\"2023-04-02T00:00:00.000Z\"},\"techniques\":[],\"sharedWith\":[],\"scientificMetadata\":{\"type\":\"string\",\"value\":{\"a\":\"field\"}},\"principalInvestigator\":\"A. Mouse\",\"endTime\":\"2023-04-04T12:45:33.910Z\",\"creationLocation\":\"Magrathea\",\"dataFormat\":\"planet\",\"proposalId\":\"deepthought\",\"sampleId\":\"gargleblaster\",\"instrumentId\":\"earth\",\"inputDatasets\":[],\"usedSoftware\":[],\"pid\":\"PID.SAMPLE.PREFIX/d6fb46ee-8aaf-40b7-b7a6-65956a043ad9\",\"history\":[],\"relationships\":[],\"attachments\":[],\"origdatablocks\":[],\"datablocks\":[],\"createdAt\":\"2023-04-04T12:45:36.318Z\",\"updatedAt\":\"2023-04-04T12:45:36.318Z\",\"_id\":\"PID.SAMPLE.PREFIX/d6fb46ee-8aaf-40b7-b7a6-65956a043ad9\",\"classification\":\"IN=medium,AV=low,CO=low\",\"__v\":0,\"id\":\"PID.SAMPLE.PREFIX/d6fb46ee-8aaf-40b7-b7a6-65956a043ad9\"}\n"
     ]
    }
   ],
   "source": [
    "# Can you upload a dataset with requests as an ingestor role ?\n",
    "r = requests.request('post',BASE_URL + 'Datasets', json=dataset_a.dict(exclude_none=True),\n",
    "                          headers={'Authorization': f'Bearer {token}'})\n",
    "\n",
    "print(r.text)"
   ]
  },
  {
   "cell_type": "code",
   "execution_count": 6,
   "id": "acc0496a",
   "metadata": {},
   "outputs": [
    {
     "data": {
      "text/plain": [
       "'PID.SAMPLE.PREFIX/6493cd66-1859-46bd-8163-de838ea944cf'"
      ]
     },
     "execution_count": 6,
     "metadata": {},
     "output_type": "execute_result"
    }
   ],
   "source": [
    "# Can you upload a dataset with pyscict as an ingestor role ?\n",
    "sci_clie.upload_new_dataset(dataset_b)"
   ]
  },
  {
   "cell_type": "code",
   "execution_count": 7,
   "id": "f862cda3",
   "metadata": {},
   "outputs": [
    {
     "name": "stdout",
     "output_type": "stream",
     "text": [
      "[{\"_id\":\"PID.SAMPLE.PREFIX/d3695509-415d-4cc1-82e3-ca68d6442392\",\"createdBy\":\"ingestor\",\"updatedBy\":\"ingestor\",\"ownerGroup\":\"ingestor\",\"accessGroups\":[],\"owner\":\"ingestor\",\"ownerEmail\":\"scicatingestor@your.site\",\"contactEmail\":\"slartibartfast@magrathea.org\",\"sourceFolder\":\"/foo/bar\",\"sourceFolderHost\":\"s3.heartofgold.org\",\"size\":42,\"packedSize\":0,\"numberOfFiles\":0,\"numberOfFilesArchived\":0,\"creationTime\":\"2023-04-04T12:08:08.733Z\",\"type\":\"raw\",\"keywords\":[],\"datasetName\":\"a new guide book\",\"isPublished\":false,\"datasetlifecycle\":{\"archivable\":true,\"retrievable\":false,\"publishable\":false,\"dateOfDiskPurging\":\"2023-04-04T11:56:40.368Z\",\"publishedOn\":\"2023-04-04T11:56:40.368Z\",\"isOnCentralDisk\":true,\"archiveStatusMessage\":\"datasetCreated\",\"retrieveStatusMessage\":\"\",\"retrieveIntegrityCheck\":false,\"_id\":\"642c132a3fc7fbae00ff5c29\",\"archiveRetentionTime\":\"2023-04-02T00:00:00.000Z\",\"dateOfPublishing\":\"2023-04-02T00:00:00.000Z\"},\"techniques\":[],\"sharedWith\":[],\"scientificMetadata\":{\"type\":\"string\",\"value\":{\"a\":\"field\"}},\"principalInvestigator\":\"A. Mouse\",\"endTime\":\"2023-04-04T12:08:08.733Z\",\"creationLocation\":\"Magrathea\",\"dataFormat\":\"planet\",\"proposalId\":\"deepthought\",\"sampleId\":\"gargleblaster\",\"instrumentId\":\"earth\",\"inputDatasets\":[],\"usedSoftware\":[],\"pid\":\"PID.SAMPLE.PREFIX/d3695509-415d-4cc1-82e3-ca68d6442392\",\"history\":[],\"relationships\":[],\"attachments\":[],\"origdatablocks\":[],\"datablocks\":[],\"createdAt\":\"2023-04-04T12:08:10.118Z\",\"updatedAt\":\"2023-04-04T12:08:10.118Z\",\"classification\":\"IN=medium,AV=low,CO=low\",\"__v\":0,\"id\":\"PID.SAMPLE.PREFIX/d3695509-415d-4cc1-82e3-ca68d6442392\"},{\"_id\":\"PID.SAMPLE.PREFIX/8f284e07-3f1e-47eb-9331-4a399b61d6c8\",\"createdBy\":\"ingestor\",\"updatedBy\":\"ingestor\",\"ownerGroup\":\"ingestor\",\"accessGroups\":[],\"owner\":\"ingestor\",\"ownerEmail\":\"scicatingestor@your.site\",\"contactEmail\":\"slartibartfast@magrathea.org\",\"sourceFolder\":\"/foo/bar\",\"sourceFolderHost\":\"s3.heartofgold.org\",\"size\":42,\"packedSize\":0,\"numberOfFiles\":0,\"numberOfFilesArchived\":0,\"creationTime\":\"2023-04-04T12:09:13.795Z\",\"type\":\"raw\",\"keywords\":[],\"datasetName\":\"a BIGGER guide book\",\"isPublished\":false,\"datasetlifecycle\":{\"archivable\":true,\"retrievable\":false,\"publishable\":false,\"dateOfDiskPurging\":\"2023-04-04T11:56:40.368Z\",\"publishedOn\":\"2023-04-04T11:56:40.368Z\",\"isOnCentralDisk\":true,\"archiveStatusMessage\":\"datasetCreated\",\"retrieveStatusMessage\":\"\",\"retrieveIntegrityCheck\":false,\"_id\":\"642c137c3fc7fbae00ff5c31\",\"archiveRetentionTime\":\"2023-04-02T00:00:00.000Z\",\"dateOfPublishing\":\"2023-04-02T00:00:00.000Z\"},\"techniques\":[],\"sharedWith\":[],\"scientificMetadata\":{\"type\":\"string\",\"value\":{\"a\":\"field\"}},\"principalInvestigator\":\"A. Mouse\",\"endTime\":\"2023-04-04T12:09:13.795Z\",\"creationLocation\":\"Magrathea\",\"dataFormat\":\"planet\",\"proposalId\":\"deepthought\",\"sampleId\":\"gargleblaster\",\"instrumentId\":\"earth\",\"inputDatasets\":[],\"usedSoftware\":[],\"pid\":\"PID.SAMPLE.PREFIX/8f284e07-3f1e-47eb-9331-4a399b61d6c8\",\"history\":[],\"relationships\":[],\"attachments\":[],\"origdatablocks\":[],\"datablocks\":[],\"createdAt\":\"2023-04-04T12:09:32.225Z\",\"updatedAt\":\"2023-04-04T12:09:32.225Z\",\"classification\":\"IN=medium,AV=low,CO=low\",\"__v\":0,\"id\":\"PID.SAMPLE.PREFIX/8f284e07-3f1e-47eb-9331-4a399b61d6c8\"},{\"_id\":\"PID.SAMPLE.PREFIX/62d3ca41-a6c8-4ca5-b6de-af8d2ee7b2fd\",\"createdBy\":\"ingestor\",\"updatedBy\":\"ingestor\",\"ownerGroup\":\"ingestor\",\"accessGroups\":[],\"owner\":\"ingestor\",\"ownerEmail\":\"scicatingestor@your.site\",\"contactEmail\":\"slartibartfast@magrathea.org\",\"sourceFolder\":\"/foo/bar\",\"sourceFolderHost\":\"s3.heartofgold.org\",\"size\":42,\"packedSize\":0,\"numberOfFiles\":0,\"numberOfFilesArchived\":0,\"creationTime\":\"2023-04-04T12:09:13.794Z\",\"type\":\"raw\",\"keywords\":[],\"datasetName\":\"a new guide book\",\"isPublished\":false,\"datasetlifecycle\":{\"archivable\":true,\"retrievable\":false,\"publishable\":false,\"dateOfDiskPurging\":\"2023-04-04T11:56:40.368Z\",\"publishedOn\":\"2023-04-04T11:56:40.368Z\",\"isOnCentralDisk\":true,\"archiveStatusMessage\":\"datasetCreated\",\"retrieveStatusMessage\":\"\",\"retrieveIntegrityCheck\":false,\"_id\":\"642c15f73fc7fbae00ff5c49\",\"archiveRetentionTime\":\"2023-04-02T00:00:00.000Z\",\"dateOfPublishing\":\"2023-04-02T00:00:00.000Z\"},\"techniques\":[],\"sharedWith\":[],\"scientificMetadata\":{\"type\":\"string\",\"value\":{\"a\":\"field\"}},\"principalInvestigator\":\"A. Mouse\",\"endTime\":\"2023-04-04T12:09:13.794Z\",\"creationLocation\":\"Magrathea\",\"dataFormat\":\"planet\",\"proposalId\":\"deepthought\",\"sampleId\":\"gargleblaster\",\"instrumentId\":\"earth\",\"inputDatasets\":[],\"usedSoftware\":[],\"pid\":\"PID.SAMPLE.PREFIX/62d3ca41-a6c8-4ca5-b6de-af8d2ee7b2fd\",\"history\":[],\"relationships\":[],\"attachments\":[],\"origdatablocks\":[],\"datablocks\":[],\"createdAt\":\"2023-04-04T12:20:07.374Z\",\"updatedAt\":\"2023-04-04T12:20:07.374Z\",\"classification\":\"IN=medium,AV=low,CO=low\",\"__v\":0,\"id\":\"PID.SAMPLE.PREFIX/62d3ca41-a6c8-4ca5-b6de-af8d2ee7b2fd\"},{\"_id\":\"PID.SAMPLE.PREFIX/56db5d1f-9ad0-4153-90c3-56c4c20a3e9d\",\"createdBy\":\"ingestor\",\"updatedBy\":\"ingestor\",\"ownerGroup\":\"ingestor\",\"accessGroups\":[],\"owner\":\"ingestor\",\"ownerEmail\":\"scicatingestor@your.site\",\"contactEmail\":\"slartibartfast@magrathea.org\",\"sourceFolder\":\"/foo/bar\",\"sourceFolderHost\":\"s3.heartofgold.org\",\"size\":42,\"packedSize\":0,\"numberOfFiles\":0,\"numberOfFilesArchived\":0,\"creationTime\":\"2023-04-04T12:09:13.794Z\",\"type\":\"raw\",\"keywords\":[],\"datasetName\":\"a new guide book\",\"isPublished\":false,\"datasetlifecycle\":{\"archivable\":true,\"retrievable\":false,\"publishable\":false,\"dateOfDiskPurging\":\"2023-04-04T11:56:40.368Z\",\"publishedOn\":\"2023-04-04T11:56:40.368Z\",\"isOnCentralDisk\":true,\"archiveStatusMessage\":\"datasetCreated\",\"retrieveStatusMessage\":\"\",\"retrieveIntegrityCheck\":false,\"_id\":\"642c15fd3fc7fbae00ff5c4f\",\"archiveRetentionTime\":\"2023-04-02T00:00:00.000Z\",\"dateOfPublishing\":\"2023-04-02T00:00:00.000Z\"},\"techniques\":[],\"sharedWith\":[],\"scientificMetadata\":{\"type\":\"string\",\"value\":{\"a\":\"field\"}},\"principalInvestigator\":\"A. Mouse\",\"endTime\":\"2023-04-04T12:09:13.794Z\",\"creationLocation\":\"Magrathea\",\"dataFormat\":\"planet\",\"proposalId\":\"deepthought\",\"sampleId\":\"gargleblaster\",\"instrumentId\":\"earth\",\"inputDatasets\":[],\"usedSoftware\":[],\"pid\":\"PID.SAMPLE.PREFIX/56db5d1f-9ad0-4153-90c3-56c4c20a3e9d\",\"history\":[],\"relationships\":[],\"attachments\":[],\"origdatablocks\":[],\"datablocks\":[],\"createdAt\":\"2023-04-04T12:20:13.590Z\",\"updatedAt\":\"2023-04-04T12:20:13.590Z\",\"classification\":\"IN=medium,AV=low,CO=low\",\"__v\":0,\"id\":\"PID.SAMPLE.PREFIX/56db5d1f-9ad0-4153-90c3-56c4c20a3e9d\"},{\"_id\":\"PID.SAMPLE.PREFIX/0a7e7353-b1af-4012-aa02-9d68273f5176\",\"createdBy\":\"ingestor\",\"updatedBy\":\"ingestor\",\"ownerGroup\":\"ingestor\",\"accessGroups\":[],\"owner\":\"ingestor\",\"ownerEmail\":\"scicatingestor@your.site\",\"contactEmail\":\"slartibartfast@magrathea.org\",\"sourceFolder\":\"/foo/bar\",\"sourceFolderHost\":\"s3.heartofgold.org\",\"size\":42,\"packedSize\":0,\"numberOfFiles\":0,\"numberOfFilesArchived\":0,\"creationTime\":\"2023-04-04T12:08:08.733Z\",\"type\":\"raw\",\"keywords\":[],\"datasetName\":\"a new guide book\",\"isPublished\":false,\"datasetlifecycle\":{\"archivable\":true,\"retrievable\":false,\"publishable\":false,\"dateOfDiskPurging\":\"2023-04-04T11:56:40.368Z\",\"publishedOn\":\"2023-04-04T11:56:40.368Z\",\"isOnCentralDisk\":true,\"archiveStatusMessage\":\"datasetCreated\",\"retrieveStatusMessage\":\"\",\"retrieveIntegrityCheck\":false,\"_id\":\"642c16053fc7fbae00ff5c55\",\"archiveRetentionTime\":\"2023-04-02T00:00:00.000Z\",\"dateOfPublishing\":\"2023-04-02T00:00:00.000Z\"},\"techniques\":[],\"sharedWith\":[],\"scientificMetadata\":{\"type\":\"string\",\"value\":{\"a\":\"field\"}},\"principalInvestigator\":\"A. Mouse\",\"endTime\":\"2023-04-04T12:08:08.733Z\",\"creationLocation\":\"Magrathea\",\"dataFormat\":\"planet\",\"proposalId\":\"deepthought\",\"sampleId\":\"gargleblaster\",\"instrumentId\":\"earth\",\"inputDatasets\":[],\"usedSoftware\":[],\"pid\":\"PID.SAMPLE.PREFIX/0a7e7353-b1af-4012-aa02-9d68273f5176\",\"history\":[],\"relationships\":[],\"attachments\":[],\"origdatablocks\":[],\"datablocks\":[],\"createdAt\":\"2023-04-04T12:20:21.938Z\",\"updatedAt\":\"2023-04-04T12:20:21.938Z\",\"classification\":\"IN=medium,AV=low,CO=low\",\"__v\":0,\"id\":\"PID.SAMPLE.PREFIX/0a7e7353-b1af-4012-aa02-9d68273f5176\"},{\"_id\":\"PID.SAMPLE.PREFIX/d6fb46ee-8aaf-40b7-b7a6-65956a043ad9\",\"createdBy\":\"ingestor\",\"updatedBy\":\"ingestor\",\"ownerGroup\":\"ingestor\",\"accessGroups\":[],\"owner\":\"ingestor\",\"ownerEmail\":\"scicatingestor@your.site\",\"contactEmail\":\"slartibartfast@magrathea.org\",\"sourceFolder\":\"/foo/bar\",\"sourceFolderHost\":\"s3.heartofgold.org\",\"size\":42,\"packedSize\":0,\"numberOfFiles\":0,\"numberOfFilesArchived\":0,\"creationTime\":\"2023-04-04T12:45:33.910Z\",\"type\":\"raw\",\"keywords\":[],\"datasetName\":\"a new guide book\",\"isPublished\":false,\"datasetlifecycle\":{\"archivable\":true,\"retrievable\":false,\"publishable\":false,\"dateOfDiskPurging\":\"2023-04-04T11:56:40.368Z\",\"publishedOn\":\"2023-04-04T11:56:40.368Z\",\"isOnCentralDisk\":true,\"archiveStatusMessage\":\"datasetCreated\",\"retrieveStatusMessage\":\"\",\"retrieveIntegrityCheck\":false,\"_id\":\"642c1bf03fc7fbae00ff5c84\",\"archiveRetentionTime\":\"2023-04-02T00:00:00.000Z\",\"dateOfPublishing\":\"2023-04-02T00:00:00.000Z\"},\"techniques\":[],\"sharedWith\":[],\"scientificMetadata\":{\"type\":\"string\",\"value\":{\"a\":\"field\"}},\"principalInvestigator\":\"A. Mouse\",\"endTime\":\"2023-04-04T12:45:33.910Z\",\"creationLocation\":\"Magrathea\",\"dataFormat\":\"planet\",\"proposalId\":\"deepthought\",\"sampleId\":\"gargleblaster\",\"instrumentId\":\"earth\",\"inputDatasets\":[],\"usedSoftware\":[],\"pid\":\"PID.SAMPLE.PREFIX/d6fb46ee-8aaf-40b7-b7a6-65956a043ad9\",\"history\":[],\"relationships\":[],\"attachments\":[],\"origdatablocks\":[],\"datablocks\":[],\"createdAt\":\"2023-04-04T12:45:36.318Z\",\"updatedAt\":\"2023-04-04T12:45:36.318Z\",\"classification\":\"IN=medium,AV=low,CO=low\",\"__v\":0,\"id\":\"PID.SAMPLE.PREFIX/d6fb46ee-8aaf-40b7-b7a6-65956a043ad9\"},{\"_id\":\"PID.SAMPLE.PREFIX/6493cd66-1859-46bd-8163-de838ea944cf\",\"createdBy\":\"ingestor\",\"updatedBy\":\"ingestor\",\"ownerGroup\":\"ingestor\",\"accessGroups\":[],\"owner\":\"ingestor\",\"ownerEmail\":\"scicatingestor@your.site\",\"contactEmail\":\"slartibartfast@magrathea.org\",\"sourceFolder\":\"/foo/bar\",\"sourceFolderHost\":\"s3.heartofgold.org\",\"size\":42,\"packedSize\":0,\"numberOfFiles\":0,\"numberOfFilesArchived\":0,\"creationTime\":\"2023-04-04T12:45:33.910Z\",\"type\":\"raw\",\"keywords\":[],\"datasetName\":\"a BIGGER guide book\",\"isPublished\":false,\"datasetlifecycle\":{\"archivable\":true,\"retrievable\":false,\"publishable\":false,\"dateOfDiskPurging\":\"2023-04-04T11:56:40.368Z\",\"publishedOn\":\"2023-04-04T11:56:40.368Z\",\"isOnCentralDisk\":true,\"archiveStatusMessage\":\"datasetCreated\",\"retrieveStatusMessage\":\"\",\"retrieveIntegrityCheck\":false,\"_id\":\"642c1bf13fc7fbae00ff5c8a\",\"archiveRetentionTime\":\"2023-04-02T00:00:00.000Z\",\"dateOfPublishing\":\"2023-04-02T00:00:00.000Z\"},\"techniques\":[],\"sharedWith\":[],\"scientificMetadata\":{\"type\":\"string\",\"value\":{\"a\":\"field\"}},\"principalInvestigator\":\"A. Mouse\",\"endTime\":\"2023-04-04T12:45:33.910Z\",\"creationLocation\":\"Magrathea\",\"dataFormat\":\"planet\",\"proposalId\":\"deepthought\",\"sampleId\":\"gargleblaster\",\"instrumentId\":\"earth\",\"inputDatasets\":[],\"usedSoftware\":[],\"pid\":\"PID.SAMPLE.PREFIX/6493cd66-1859-46bd-8163-de838ea944cf\",\"history\":[],\"relationships\":[],\"attachments\":[],\"origdatablocks\":[],\"datablocks\":[],\"createdAt\":\"2023-04-04T12:45:37.125Z\",\"updatedAt\":\"2023-04-04T12:45:37.125Z\",\"classification\":\"IN=medium,AV=low,CO=low\",\"__v\":0,\"id\":\"PID.SAMPLE.PREFIX/6493cd66-1859-46bd-8163-de838ea944cf\"}]\n"
     ]
    }
   ],
   "source": [
    "# Can you get your dataset back as an admin role?\n",
    "r = requests.request('get',BASE_URL + 'Datasets', json= {\"where\": {\"owner\": \"ingestor\"}},\n",
    "                          headers={'Authorization': f'Bearer {token}'})\n",
    "\n",
    "print(r.text)"
   ]
  },
  {
   "cell_type": "code",
   "execution_count": 8,
   "id": "1ea2d0e9",
   "metadata": {},
   "outputs": [
    {
     "ename": "AttributeError",
     "evalue": "'str' object has no attribute 'get'",
     "output_type": "error",
     "traceback": [
      "\u001b[0;31m---------------------------------------------------------------------------\u001b[0m",
      "\u001b[0;31mAttributeError\u001b[0m                            Traceback (most recent call last)",
      "Cell \u001b[0;32mIn [8], line 2\u001b[0m\n\u001b[1;32m      1\u001b[0m \u001b[38;5;66;03m# Can you get your dataset back with an admin role from pyscicat?\u001b[39;00m\n\u001b[0;32m----> 2\u001b[0m \u001b[43msci_clie\u001b[49m\u001b[38;5;241;43m.\u001b[39;49m\u001b[43mget_datasets\u001b[49m\u001b[43m(\u001b[49m\u001b[43m{\u001b[49m\u001b[38;5;124;43m\"\u001b[39;49m\u001b[38;5;124;43mowner\u001b[39;49m\u001b[38;5;124;43m\"\u001b[39;49m\u001b[43m:\u001b[49m\u001b[38;5;124;43m\"\u001b[39;49m\u001b[38;5;124;43mingestor\u001b[39;49m\u001b[38;5;124;43m\"\u001b[39;49m\u001b[43m}\u001b[49m\u001b[43m)\u001b[49m\n",
      "File \u001b[0;32m/ceph/users/vpf26432/miniconda3/envs/hackathon/lib/python3.10/site-packages/pyscicat/client.py:710\u001b[0m, in \u001b[0;36mScicatClient.datasets_get_many\u001b[0;34m(self, filter_fields)\u001b[0m\n\u001b[1;32m    708\u001b[0m filter_fields \u001b[38;5;241m=\u001b[39m json\u001b[38;5;241m.\u001b[39mdumps(filter_fields)\n\u001b[1;32m    709\u001b[0m endpoint \u001b[38;5;241m=\u001b[39m \u001b[38;5;124mf\u001b[39m\u001b[38;5;124m'\u001b[39m\u001b[38;5;124m/Datasets/?filter=\u001b[39m\u001b[38;5;130;01m{{\u001b[39;00m\u001b[38;5;124m\"\u001b[39m\u001b[38;5;124mwhere\u001b[39m\u001b[38;5;124m\"\u001b[39m\u001b[38;5;124m:\u001b[39m\u001b[38;5;132;01m{\u001b[39;00mfilter_fields\u001b[38;5;132;01m}\u001b[39;00m\u001b[38;5;130;01m}}\u001b[39;00m\u001b[38;5;124m'\u001b[39m\n\u001b[0;32m--> 710\u001b[0m \u001b[38;5;28;01mreturn\u001b[39;00m \u001b[38;5;28;43mself\u001b[39;49m\u001b[38;5;241;43m.\u001b[39;49m\u001b[43m_call_endpoint\u001b[49m\u001b[43m(\u001b[49m\n\u001b[1;32m    711\u001b[0m \u001b[43m    \u001b[49m\u001b[43mcmd\u001b[49m\u001b[38;5;241;43m=\u001b[39;49m\u001b[38;5;124;43m\"\u001b[39;49m\u001b[38;5;124;43mget\u001b[39;49m\u001b[38;5;124;43m\"\u001b[39;49m\u001b[43m,\u001b[49m\u001b[43m \u001b[49m\u001b[43mendpoint\u001b[49m\u001b[38;5;241;43m=\u001b[39;49m\u001b[43mendpoint\u001b[49m\u001b[43m,\u001b[49m\u001b[43m \u001b[49m\u001b[43moperation\u001b[49m\u001b[38;5;241;43m=\u001b[39;49m\u001b[38;5;124;43m\"\u001b[39;49m\u001b[38;5;124;43mdatasets_get_many\u001b[39;49m\u001b[38;5;124;43m\"\u001b[39;49m\u001b[43m,\u001b[49m\u001b[43m \u001b[49m\u001b[43mallow_404\u001b[49m\u001b[38;5;241;43m=\u001b[39;49m\u001b[38;5;28;43;01mTrue\u001b[39;49;00m\n\u001b[1;32m    712\u001b[0m \u001b[43m\u001b[49m\u001b[43m)\u001b[49m\n",
      "File \u001b[0;32m/ceph/users/vpf26432/miniconda3/envs/hackathon/lib/python3.10/site-packages/pyscicat/client.py:122\u001b[0m, in \u001b[0;36mScicatClient._call_endpoint\u001b[0;34m(self, cmd, endpoint, data, operation, allow_404)\u001b[0m\n\u001b[1;32m    117\u001b[0m \u001b[38;5;28;01mif\u001b[39;00m \u001b[38;5;129;01mnot\u001b[39;00m response\u001b[38;5;241m.\u001b[39mok:\n\u001b[1;32m    118\u001b[0m     err \u001b[38;5;241m=\u001b[39m result\u001b[38;5;241m.\u001b[39mget(\u001b[38;5;124m\"\u001b[39m\u001b[38;5;124merror\u001b[39m\u001b[38;5;124m\"\u001b[39m, {})\n\u001b[1;32m    119\u001b[0m     \u001b[38;5;28;01mif\u001b[39;00m (\n\u001b[1;32m    120\u001b[0m         allow_404\n\u001b[1;32m    121\u001b[0m         \u001b[38;5;129;01mand\u001b[39;00m response\u001b[38;5;241m.\u001b[39mstatus_code \u001b[38;5;241m==\u001b[39m \u001b[38;5;241m404\u001b[39m\n\u001b[0;32m--> 122\u001b[0m         \u001b[38;5;129;01mand\u001b[39;00m re\u001b[38;5;241m.\u001b[39mmatch(\u001b[38;5;124mr\u001b[39m\u001b[38;5;124m\"\u001b[39m\u001b[38;5;124mUnknown (.+ )?id\u001b[39m\u001b[38;5;124m\"\u001b[39m, \u001b[43merr\u001b[49m\u001b[38;5;241;43m.\u001b[39;49m\u001b[43mget\u001b[49m(\u001b[38;5;124m\"\u001b[39m\u001b[38;5;124mmessage\u001b[39m\u001b[38;5;124m\"\u001b[39m, \u001b[38;5;124m\"\u001b[39m\u001b[38;5;124m\"\u001b[39m))\n\u001b[1;32m    123\u001b[0m     ):\n\u001b[1;32m    124\u001b[0m         \u001b[38;5;66;03m# The operation failed but because the object does not exist in SciCat.\u001b[39;00m\n\u001b[1;32m    125\u001b[0m         logger\u001b[38;5;241m.\u001b[39merror(\u001b[38;5;124m\"\u001b[39m\u001b[38;5;124mError in operation \u001b[39m\u001b[38;5;132;01m%s\u001b[39;00m\u001b[38;5;124m: \u001b[39m\u001b[38;5;132;01m%s\u001b[39;00m\u001b[38;5;124m\"\u001b[39m, operation, err)\n\u001b[1;32m    126\u001b[0m         \u001b[38;5;28;01mreturn\u001b[39;00m \u001b[38;5;28;01mNone\u001b[39;00m\n",
      "\u001b[0;31mAttributeError\u001b[0m: 'str' object has no attribute 'get'"
     ]
    }
   ],
   "source": [
    "# Can you get your dataset back with an admin role from pyscicat?\n",
    "sci_clie.get_datasets({\"owner\":\"ingestor\"})"
   ]
  },
  {
   "cell_type": "markdown",
   "id": "7b969d30",
   "metadata": {},
   "source": [
    "We will now add data from a user `user1` who is part of `group1` . The `user1` does not have an ingestor role and the `group1` is not part of `admin`.\n",
    "\n",
    "We will try to upload the dataset with `pyscicat` and `requests` packages as the `ingestor` adn `user1` and GET the datasets as `user1` and the `ingestor`\n",
    "\n",
    "Expected behaviour:\n",
    "* write and read as `ingestor`\n",
    "* read only as `user1`"
   ]
  },
  {
   "cell_type": "code",
   "execution_count": 9,
   "id": "b82b4def",
   "metadata": {},
   "outputs": [],
   "source": [
    "#ingest a data set from a user\n",
    "\n",
    "ownable = Ownable(ownerGroup=\"group1\", accessGroups=[])\n",
    "dataset_user = RawDataset(\n",
    "    datasetName=\"Intergalatic Highway\",\n",
    "    path=\"/foo/bar\",\n",
    "    size=42,\n",
    "    packedSize=0,\n",
    "    owner=\"user1\",\n",
    "    contactEmail=\"jeltz@vogons.org\",\n",
    "    creationLocation=\"Vogsphere\",\n",
    "    creationTime=datetime.isoformat(datetime.now()),\n",
    "    instrumentId=\"bulldozer\",\n",
    "    proposalId=\"Demolition of Earth\",\n",
    "    dataFormat=\"highway\",\n",
    "    principalInvestigator=\"A. Vogon\",\n",
    "    sourceFolder=\"/foo/bar\",\n",
    "    scientificMetadata={\"type\": \"string\", \"value\": {\"a\": \"field\"}},\n",
    "    sampleId=\"\",\n",
    "    ownerEmail=\"jeltz@vogons.org\",\n",
    "    sourceFolderHost=\"s3.vogscloud.org\",\n",
    "    endTime=datetime.isoformat(datetime.now()),\n",
    "    techniques=[],\n",
    "    numberOfFiles=0,\n",
    "    numberOfFilesArchived=0,\n",
    "    **ownable.dict()\n",
    ")\n",
    "\n",
    "\n"
   ]
  },
  {
   "cell_type": "code",
   "execution_count": 11,
   "id": "57418a05",
   "metadata": {},
   "outputs": [
    {
     "name": "stdout",
     "output_type": "stream",
     "text": [
      "{\"statusCode\":403,\"message\":\"Unauthorized to create this dataset\",\"error\":\"Forbidden\"}\n"
     ]
    },
    {
     "ename": "ScicatCommError",
     "evalue": "Error in operation datasets_create: Forbidden",
     "output_type": "error",
     "traceback": [
      "\u001b[0;31m---------------------------------------------------------------------------\u001b[0m",
      "\u001b[0;31mScicatCommError\u001b[0m                           Traceback (most recent call last)",
      "Cell \u001b[0;32mIn [11], line 7\u001b[0m\n\u001b[1;32m      4\u001b[0m \u001b[38;5;28mprint\u001b[39m(r\u001b[38;5;241m.\u001b[39mtext)\n\u001b[1;32m      6\u001b[0m \u001b[38;5;66;03m# Upload with pyscicat\u001b[39;00m\n\u001b[0;32m----> 7\u001b[0m \u001b[43msci_clie\u001b[49m\u001b[38;5;241;43m.\u001b[39;49m\u001b[43mupload_new_dataset\u001b[49m\u001b[43m(\u001b[49m\u001b[43mdataset_user\u001b[49m\u001b[43m)\u001b[49m\n",
      "File \u001b[0;32m/ceph/users/vpf26432/miniconda3/envs/hackathon/lib/python3.10/site-packages/pyscicat/client.py:197\u001b[0m, in \u001b[0;36mScicatClient.datasets_create\u001b[0;34m(self, dataset)\u001b[0m\n\u001b[1;32m    174\u001b[0m \u001b[38;5;28;01mdef\u001b[39;00m \u001b[38;5;21mdatasets_create\u001b[39m(\u001b[38;5;28mself\u001b[39m, dataset: Dataset) \u001b[38;5;241m-\u001b[39m\u001b[38;5;241m>\u001b[39m \u001b[38;5;28mstr\u001b[39m:\n\u001b[1;32m    175\u001b[0m     \u001b[38;5;124;03m\"\"\"\u001b[39;00m\n\u001b[1;32m    176\u001b[0m \u001b[38;5;124;03m    Upload a new dataset. Uses the generic dataset endpoint.\u001b[39;00m\n\u001b[1;32m    177\u001b[0m \u001b[38;5;124;03m    Relies on the endpoint to sense the dataset type\u001b[39;00m\n\u001b[0;32m   (...)\u001b[0m\n\u001b[1;32m    195\u001b[0m \u001b[38;5;124;03m        Raises if a non-20x message is returned\u001b[39;00m\n\u001b[1;32m    196\u001b[0m \u001b[38;5;124;03m    \"\"\"\u001b[39;00m\n\u001b[0;32m--> 197\u001b[0m     \u001b[38;5;28;01mreturn\u001b[39;00m \u001b[38;5;28;43mself\u001b[39;49m\u001b[38;5;241;43m.\u001b[39;49m\u001b[43m_call_endpoint\u001b[49m\u001b[43m(\u001b[49m\n\u001b[1;32m    198\u001b[0m \u001b[43m        \u001b[49m\u001b[43mcmd\u001b[49m\u001b[38;5;241;43m=\u001b[39;49m\u001b[38;5;124;43m\"\u001b[39;49m\u001b[38;5;124;43mpost\u001b[39;49m\u001b[38;5;124;43m\"\u001b[39;49m\u001b[43m,\u001b[49m\u001b[43m \u001b[49m\u001b[43mendpoint\u001b[49m\u001b[38;5;241;43m=\u001b[39;49m\u001b[38;5;124;43m\"\u001b[39;49m\u001b[38;5;124;43mDatasets\u001b[39;49m\u001b[38;5;124;43m\"\u001b[39;49m\u001b[43m,\u001b[49m\u001b[43m \u001b[49m\u001b[43mdata\u001b[49m\u001b[38;5;241;43m=\u001b[39;49m\u001b[43mdataset\u001b[49m\u001b[43m,\u001b[49m\u001b[43m \u001b[49m\u001b[43moperation\u001b[49m\u001b[38;5;241;43m=\u001b[39;49m\u001b[38;5;124;43m\"\u001b[39;49m\u001b[38;5;124;43mdatasets_create\u001b[39;49m\u001b[38;5;124;43m\"\u001b[39;49m\n\u001b[1;32m    199\u001b[0m \u001b[43m    \u001b[49m\u001b[43m)\u001b[49m\u001b[38;5;241m.\u001b[39mget(\u001b[38;5;124m\"\u001b[39m\u001b[38;5;124mpid\u001b[39m\u001b[38;5;124m\"\u001b[39m)\n",
      "File \u001b[0;32m/ceph/users/vpf26432/miniconda3/envs/hackathon/lib/python3.10/site-packages/pyscicat/client.py:127\u001b[0m, in \u001b[0;36mScicatClient._call_endpoint\u001b[0;34m(self, cmd, endpoint, data, operation, allow_404)\u001b[0m\n\u001b[1;32m    125\u001b[0m         logger\u001b[38;5;241m.\u001b[39merror(\u001b[38;5;124m\"\u001b[39m\u001b[38;5;124mError in operation \u001b[39m\u001b[38;5;132;01m%s\u001b[39;00m\u001b[38;5;124m: \u001b[39m\u001b[38;5;132;01m%s\u001b[39;00m\u001b[38;5;124m\"\u001b[39m, operation, err)\n\u001b[1;32m    126\u001b[0m         \u001b[38;5;28;01mreturn\u001b[39;00m \u001b[38;5;28;01mNone\u001b[39;00m\n\u001b[0;32m--> 127\u001b[0m     \u001b[38;5;28;01mraise\u001b[39;00m ScicatCommError(\u001b[38;5;124mf\u001b[39m\u001b[38;5;124m\"\u001b[39m\u001b[38;5;124mError in operation \u001b[39m\u001b[38;5;132;01m{\u001b[39;00moperation\u001b[38;5;132;01m}\u001b[39;00m\u001b[38;5;124m: \u001b[39m\u001b[38;5;132;01m{\u001b[39;00merr\u001b[38;5;132;01m}\u001b[39;00m\u001b[38;5;124m\"\u001b[39m)\n\u001b[1;32m    128\u001b[0m logger\u001b[38;5;241m.\u001b[39minfo(\n\u001b[1;32m    129\u001b[0m     \u001b[38;5;124m\"\u001b[39m\u001b[38;5;124mOperation \u001b[39m\u001b[38;5;124m'\u001b[39m\u001b[38;5;132;01m%s\u001b[39;00m\u001b[38;5;124m'\u001b[39m\u001b[38;5;124m successful\u001b[39m\u001b[38;5;132;01m%s\u001b[39;00m\u001b[38;5;124m\"\u001b[39m,\n\u001b[1;32m    130\u001b[0m     operation,\n\u001b[1;32m    131\u001b[0m     \u001b[38;5;124mf\u001b[39m\u001b[38;5;124m\"\u001b[39m\u001b[38;5;124mpid=\u001b[39m\u001b[38;5;132;01m{\u001b[39;00mresult[\u001b[38;5;124m'\u001b[39m\u001b[38;5;124mpid\u001b[39m\u001b[38;5;124m'\u001b[39m]\u001b[38;5;132;01m}\u001b[39;00m\u001b[38;5;124m\"\u001b[39m \u001b[38;5;28;01mif\u001b[39;00m \u001b[38;5;124m\"\u001b[39m\u001b[38;5;124mpid\u001b[39m\u001b[38;5;124m\"\u001b[39m \u001b[38;5;129;01min\u001b[39;00m result \u001b[38;5;28;01melse\u001b[39;00m \u001b[38;5;124m\"\u001b[39m\u001b[38;5;124m\"\u001b[39m,\n\u001b[1;32m    132\u001b[0m )\n\u001b[1;32m    133\u001b[0m \u001b[38;5;28;01mreturn\u001b[39;00m result\n",
      "\u001b[0;31mScicatCommError\u001b[0m: Error in operation datasets_create: Forbidden"
     ]
    }
   ],
   "source": [
    "# Can you upload as ingestor?\n",
    "r = requests.request('post',BASE_URL + 'Datasets', json=dataset_user.dict(exclude_none=True),\n",
    "                          headers={'Authorization': f'Bearer {token}'})\n",
    "print(r.text)\n",
    "\n",
    "# Upload with pyscicat\n",
    "sci_clie.upload_new_dataset(dataset_user)"
   ]
  },
  {
   "cell_type": "code",
   "execution_count": 10,
   "id": "e000fc38",
   "metadata": {},
   "outputs": [
    {
     "name": "stdout",
     "output_type": "stream",
     "text": [
      "201\n",
      "{\"createdBy\":\"user1\",\"updatedBy\":\"user1\",\"ownerGroup\":\"group1\",\"accessGroups\":[],\"owner\":\"user1\",\"ownerEmail\":\"jeltz@vogons.org\",\"contactEmail\":\"jeltz@vogons.org\",\"sourceFolder\":\"/foo/bar\",\"sourceFolderHost\":\"s3.vogscloud.org\",\"size\":42,\"packedSize\":0,\"numberOfFiles\":0,\"numberOfFilesArchived\":0,\"creationTime\":\"2023-04-04T12:45:48.754Z\",\"type\":\"raw\",\"keywords\":[],\"datasetName\":\"Intergalatic Highway\",\"isPublished\":false,\"datasetlifecycle\":{\"archivable\":true,\"retrievable\":false,\"publishable\":false,\"dateOfDiskPurging\":\"2023-04-04T11:56:40.368Z\",\"publishedOn\":\"2023-04-04T11:56:40.368Z\",\"isOnCentralDisk\":true,\"archiveStatusMessage\":\"datasetCreated\",\"retrieveStatusMessage\":\"\",\"retrieveIntegrityCheck\":false,\"_id\":\"642c1bfe3fc7fbae00ff5ca1\",\"archiveRetentionTime\":\"2023-04-02T00:00:00.000Z\",\"dateOfPublishing\":\"2023-04-02T00:00:00.000Z\"},\"techniques\":[],\"sharedWith\":[],\"scientificMetadata\":{\"type\":\"string\",\"value\":{\"a\":\"field\"}},\"principalInvestigator\":\"A. Vogon\",\"endTime\":\"2023-04-04T12:45:48.754Z\",\"creationLocation\":\"Vogsphere\",\"dataFormat\":\"highway\",\"proposalId\":\"Demolition of Earth\",\"sampleId\":\"\",\"instrumentId\":\"bulldozer\",\"inputDatasets\":[],\"usedSoftware\":[],\"pid\":\"PID.SAMPLE.PREFIX/10f6c5f6-0716-48d0-8856-5692f9ec1828\",\"history\":[],\"relationships\":[],\"attachments\":[],\"origdatablocks\":[],\"datablocks\":[],\"createdAt\":\"2023-04-04T12:45:50.227Z\",\"updatedAt\":\"2023-04-04T12:45:50.227Z\",\"_id\":\"PID.SAMPLE.PREFIX/10f6c5f6-0716-48d0-8856-5692f9ec1828\",\"classification\":\"IN=medium,AV=low,CO=low\",\"__v\":0,\"id\":\"PID.SAMPLE.PREFIX/10f6c5f6-0716-48d0-8856-5692f9ec1828\"}\n"
     ]
    },
    {
     "data": {
      "text/plain": [
       "'PID.SAMPLE.PREFIX/e212c212-aa8a-4c86-aefa-d52ef7df16ef'"
      ]
     },
     "execution_count": 10,
     "metadata": {},
     "output_type": "execute_result"
    }
   ],
   "source": [
    "# Can you upload as a user?\n",
    "r = requests.request(\"post\", BASE_URL + 'auth/login', json=dict(username='user1',\n",
    "                                                                password='a609316768619f154ef58db4d847b75e'))\n",
    "user_token = r.json()['id']\n",
    "print(r.status_code)\n",
    "r = requests.request('post',BASE_URL + 'Datasets', json=dataset_user.dict(exclude_none=True),\n",
    "                          headers={'Authorization': f'Bearer {user_token}'})\n",
    "print(r.text)\n",
    "\n",
    "# Upload with Pyscicat\n",
    "\n",
    "\n",
    "sci_user = ScicatClient(base_url=BASE_URL,\n",
    "                        token=None,\n",
    "                        username='user1',\n",
    "                        password='a609316768619f154ef58db4d847b75e')\n",
    "sci_user.upload_new_dataset(dataset_user)"
   ]
  },
  {
   "cell_type": "code",
   "execution_count": 13,
   "id": "11cae904",
   "metadata": {},
   "outputs": [
    {
     "name": "stdout",
     "output_type": "stream",
     "text": [
      "[{\"_id\":\"PID.SAMPLE.PREFIX/d3695509-415d-4cc1-82e3-ca68d6442392\",\"createdBy\":\"ingestor\",\"updatedBy\":\"ingestor\",\"ownerGroup\":\"ingestor\",\"accessGroups\":[],\"owner\":\"ingestor\",\"ownerEmail\":\"scicatingestor@your.site\",\"contactEmail\":\"slartibartfast@magrathea.org\",\"sourceFolder\":\"/foo/bar\",\"sourceFolderHost\":\"s3.heartofgold.org\",\"size\":42,\"packedSize\":0,\"numberOfFiles\":0,\"numberOfFilesArchived\":0,\"creationTime\":\"2023-04-04T12:08:08.733Z\",\"type\":\"raw\",\"keywords\":[],\"datasetName\":\"a new guide book\",\"isPublished\":false,\"datasetlifecycle\":{\"archivable\":true,\"retrievable\":false,\"publishable\":false,\"dateOfDiskPurging\":\"2023-04-04T11:56:40.368Z\",\"publishedOn\":\"2023-04-04T11:56:40.368Z\",\"isOnCentralDisk\":true,\"archiveStatusMessage\":\"datasetCreated\",\"retrieveStatusMessage\":\"\",\"retrieveIntegrityCheck\":false,\"_id\":\"642c132a3fc7fbae00ff5c29\",\"archiveRetentionTime\":\"2023-04-02T00:00:00.000Z\",\"dateOfPublishing\":\"2023-04-02T00:00:00.000Z\"},\"techniques\":[],\"sharedWith\":[],\"scientificMetadata\":{\"type\":\"string\",\"value\":{\"a\":\"field\"}},\"principalInvestigator\":\"A. Mouse\",\"endTime\":\"2023-04-04T12:08:08.733Z\",\"creationLocation\":\"Magrathea\",\"dataFormat\":\"planet\",\"proposalId\":\"deepthought\",\"sampleId\":\"gargleblaster\",\"instrumentId\":\"earth\",\"inputDatasets\":[],\"usedSoftware\":[],\"pid\":\"PID.SAMPLE.PREFIX/d3695509-415d-4cc1-82e3-ca68d6442392\",\"history\":[],\"relationships\":[],\"attachments\":[],\"origdatablocks\":[],\"datablocks\":[],\"createdAt\":\"2023-04-04T12:08:10.118Z\",\"updatedAt\":\"2023-04-04T12:08:10.118Z\",\"classification\":\"IN=medium,AV=low,CO=low\",\"__v\":0,\"id\":\"PID.SAMPLE.PREFIX/d3695509-415d-4cc1-82e3-ca68d6442392\"},{\"_id\":\"PID.SAMPLE.PREFIX/8f284e07-3f1e-47eb-9331-4a399b61d6c8\",\"createdBy\":\"ingestor\",\"updatedBy\":\"ingestor\",\"ownerGroup\":\"ingestor\",\"accessGroups\":[],\"owner\":\"ingestor\",\"ownerEmail\":\"scicatingestor@your.site\",\"contactEmail\":\"slartibartfast@magrathea.org\",\"sourceFolder\":\"/foo/bar\",\"sourceFolderHost\":\"s3.heartofgold.org\",\"size\":42,\"packedSize\":0,\"numberOfFiles\":0,\"numberOfFilesArchived\":0,\"creationTime\":\"2023-04-04T12:09:13.795Z\",\"type\":\"raw\",\"keywords\":[],\"datasetName\":\"a BIGGER guide book\",\"isPublished\":false,\"datasetlifecycle\":{\"archivable\":true,\"retrievable\":false,\"publishable\":false,\"dateOfDiskPurging\":\"2023-04-04T11:56:40.368Z\",\"publishedOn\":\"2023-04-04T11:56:40.368Z\",\"isOnCentralDisk\":true,\"archiveStatusMessage\":\"datasetCreated\",\"retrieveStatusMessage\":\"\",\"retrieveIntegrityCheck\":false,\"_id\":\"642c137c3fc7fbae00ff5c31\",\"archiveRetentionTime\":\"2023-04-02T00:00:00.000Z\",\"dateOfPublishing\":\"2023-04-02T00:00:00.000Z\"},\"techniques\":[],\"sharedWith\":[],\"scientificMetadata\":{\"type\":\"string\",\"value\":{\"a\":\"field\"}},\"principalInvestigator\":\"A. Mouse\",\"endTime\":\"2023-04-04T12:09:13.795Z\",\"creationLocation\":\"Magrathea\",\"dataFormat\":\"planet\",\"proposalId\":\"deepthought\",\"sampleId\":\"gargleblaster\",\"instrumentId\":\"earth\",\"inputDatasets\":[],\"usedSoftware\":[],\"pid\":\"PID.SAMPLE.PREFIX/8f284e07-3f1e-47eb-9331-4a399b61d6c8\",\"history\":[],\"relationships\":[],\"attachments\":[],\"origdatablocks\":[],\"datablocks\":[],\"createdAt\":\"2023-04-04T12:09:32.225Z\",\"updatedAt\":\"2023-04-04T12:09:32.225Z\",\"classification\":\"IN=medium,AV=low,CO=low\",\"__v\":0,\"id\":\"PID.SAMPLE.PREFIX/8f284e07-3f1e-47eb-9331-4a399b61d6c8\"},{\"_id\":\"PID.SAMPLE.PREFIX/62d3ca41-a6c8-4ca5-b6de-af8d2ee7b2fd\",\"createdBy\":\"ingestor\",\"updatedBy\":\"ingestor\",\"ownerGroup\":\"ingestor\",\"accessGroups\":[],\"owner\":\"ingestor\",\"ownerEmail\":\"scicatingestor@your.site\",\"contactEmail\":\"slartibartfast@magrathea.org\",\"sourceFolder\":\"/foo/bar\",\"sourceFolderHost\":\"s3.heartofgold.org\",\"size\":42,\"packedSize\":0,\"numberOfFiles\":0,\"numberOfFilesArchived\":0,\"creationTime\":\"2023-04-04T12:09:13.794Z\",\"type\":\"raw\",\"keywords\":[],\"datasetName\":\"a new guide book\",\"isPublished\":false,\"datasetlifecycle\":{\"archivable\":true,\"retrievable\":false,\"publishable\":false,\"dateOfDiskPurging\":\"2023-04-04T11:56:40.368Z\",\"publishedOn\":\"2023-04-04T11:56:40.368Z\",\"isOnCentralDisk\":true,\"archiveStatusMessage\":\"datasetCreated\",\"retrieveStatusMessage\":\"\",\"retrieveIntegrityCheck\":false,\"_id\":\"642c15f73fc7fbae00ff5c49\",\"archiveRetentionTime\":\"2023-04-02T00:00:00.000Z\",\"dateOfPublishing\":\"2023-04-02T00:00:00.000Z\"},\"techniques\":[],\"sharedWith\":[],\"scientificMetadata\":{\"type\":\"string\",\"value\":{\"a\":\"field\"}},\"principalInvestigator\":\"A. Mouse\",\"endTime\":\"2023-04-04T12:09:13.794Z\",\"creationLocation\":\"Magrathea\",\"dataFormat\":\"planet\",\"proposalId\":\"deepthought\",\"sampleId\":\"gargleblaster\",\"instrumentId\":\"earth\",\"inputDatasets\":[],\"usedSoftware\":[],\"pid\":\"PID.SAMPLE.PREFIX/62d3ca41-a6c8-4ca5-b6de-af8d2ee7b2fd\",\"history\":[],\"relationships\":[],\"attachments\":[],\"origdatablocks\":[],\"datablocks\":[],\"createdAt\":\"2023-04-04T12:20:07.374Z\",\"updatedAt\":\"2023-04-04T12:20:07.374Z\",\"classification\":\"IN=medium,AV=low,CO=low\",\"__v\":0,\"id\":\"PID.SAMPLE.PREFIX/62d3ca41-a6c8-4ca5-b6de-af8d2ee7b2fd\"},{\"_id\":\"PID.SAMPLE.PREFIX/56db5d1f-9ad0-4153-90c3-56c4c20a3e9d\",\"createdBy\":\"ingestor\",\"updatedBy\":\"ingestor\",\"ownerGroup\":\"ingestor\",\"accessGroups\":[],\"owner\":\"ingestor\",\"ownerEmail\":\"scicatingestor@your.site\",\"contactEmail\":\"slartibartfast@magrathea.org\",\"sourceFolder\":\"/foo/bar\",\"sourceFolderHost\":\"s3.heartofgold.org\",\"size\":42,\"packedSize\":0,\"numberOfFiles\":0,\"numberOfFilesArchived\":0,\"creationTime\":\"2023-04-04T12:09:13.794Z\",\"type\":\"raw\",\"keywords\":[],\"datasetName\":\"a new guide book\",\"isPublished\":false,\"datasetlifecycle\":{\"archivable\":true,\"retrievable\":false,\"publishable\":false,\"dateOfDiskPurging\":\"2023-04-04T11:56:40.368Z\",\"publishedOn\":\"2023-04-04T11:56:40.368Z\",\"isOnCentralDisk\":true,\"archiveStatusMessage\":\"datasetCreated\",\"retrieveStatusMessage\":\"\",\"retrieveIntegrityCheck\":false,\"_id\":\"642c15fd3fc7fbae00ff5c4f\",\"archiveRetentionTime\":\"2023-04-02T00:00:00.000Z\",\"dateOfPublishing\":\"2023-04-02T00:00:00.000Z\"},\"techniques\":[],\"sharedWith\":[],\"scientificMetadata\":{\"type\":\"string\",\"value\":{\"a\":\"field\"}},\"principalInvestigator\":\"A. Mouse\",\"endTime\":\"2023-04-04T12:09:13.794Z\",\"creationLocation\":\"Magrathea\",\"dataFormat\":\"planet\",\"proposalId\":\"deepthought\",\"sampleId\":\"gargleblaster\",\"instrumentId\":\"earth\",\"inputDatasets\":[],\"usedSoftware\":[],\"pid\":\"PID.SAMPLE.PREFIX/56db5d1f-9ad0-4153-90c3-56c4c20a3e9d\",\"history\":[],\"relationships\":[],\"attachments\":[],\"origdatablocks\":[],\"datablocks\":[],\"createdAt\":\"2023-04-04T12:20:13.590Z\",\"updatedAt\":\"2023-04-04T12:20:13.590Z\",\"classification\":\"IN=medium,AV=low,CO=low\",\"__v\":0,\"id\":\"PID.SAMPLE.PREFIX/56db5d1f-9ad0-4153-90c3-56c4c20a3e9d\"},{\"_id\":\"PID.SAMPLE.PREFIX/0a7e7353-b1af-4012-aa02-9d68273f5176\",\"createdBy\":\"ingestor\",\"updatedBy\":\"ingestor\",\"ownerGroup\":\"ingestor\",\"accessGroups\":[],\"owner\":\"ingestor\",\"ownerEmail\":\"scicatingestor@your.site\",\"contactEmail\":\"slartibartfast@magrathea.org\",\"sourceFolder\":\"/foo/bar\",\"sourceFolderHost\":\"s3.heartofgold.org\",\"size\":42,\"packedSize\":0,\"numberOfFiles\":0,\"numberOfFilesArchived\":0,\"creationTime\":\"2023-04-04T12:08:08.733Z\",\"type\":\"raw\",\"keywords\":[],\"datasetName\":\"a new guide book\",\"isPublished\":false,\"datasetlifecycle\":{\"archivable\":true,\"retrievable\":false,\"publishable\":false,\"dateOfDiskPurging\":\"2023-04-04T11:56:40.368Z\",\"publishedOn\":\"2023-04-04T11:56:40.368Z\",\"isOnCentralDisk\":true,\"archiveStatusMessage\":\"datasetCreated\",\"retrieveStatusMessage\":\"\",\"retrieveIntegrityCheck\":false,\"_id\":\"642c16053fc7fbae00ff5c55\",\"archiveRetentionTime\":\"2023-04-02T00:00:00.000Z\",\"dateOfPublishing\":\"2023-04-02T00:00:00.000Z\"},\"techniques\":[],\"sharedWith\":[],\"scientificMetadata\":{\"type\":\"string\",\"value\":{\"a\":\"field\"}},\"principalInvestigator\":\"A. Mouse\",\"endTime\":\"2023-04-04T12:08:08.733Z\",\"creationLocation\":\"Magrathea\",\"dataFormat\":\"planet\",\"proposalId\":\"deepthought\",\"sampleId\":\"gargleblaster\",\"instrumentId\":\"earth\",\"inputDatasets\":[],\"usedSoftware\":[],\"pid\":\"PID.SAMPLE.PREFIX/0a7e7353-b1af-4012-aa02-9d68273f5176\",\"history\":[],\"relationships\":[],\"attachments\":[],\"origdatablocks\":[],\"datablocks\":[],\"createdAt\":\"2023-04-04T12:20:21.938Z\",\"updatedAt\":\"2023-04-04T12:20:21.938Z\",\"classification\":\"IN=medium,AV=low,CO=low\",\"__v\":0,\"id\":\"PID.SAMPLE.PREFIX/0a7e7353-b1af-4012-aa02-9d68273f5176\"},{\"_id\":\"PID.SAMPLE.PREFIX/d6fb46ee-8aaf-40b7-b7a6-65956a043ad9\",\"createdBy\":\"ingestor\",\"updatedBy\":\"ingestor\",\"ownerGroup\":\"ingestor\",\"accessGroups\":[],\"owner\":\"ingestor\",\"ownerEmail\":\"scicatingestor@your.site\",\"contactEmail\":\"slartibartfast@magrathea.org\",\"sourceFolder\":\"/foo/bar\",\"sourceFolderHost\":\"s3.heartofgold.org\",\"size\":42,\"packedSize\":0,\"numberOfFiles\":0,\"numberOfFilesArchived\":0,\"creationTime\":\"2023-04-04T12:45:33.910Z\",\"type\":\"raw\",\"keywords\":[],\"datasetName\":\"a new guide book\",\"isPublished\":false,\"datasetlifecycle\":{\"archivable\":true,\"retrievable\":false,\"publishable\":false,\"dateOfDiskPurging\":\"2023-04-04T11:56:40.368Z\",\"publishedOn\":\"2023-04-04T11:56:40.368Z\",\"isOnCentralDisk\":true,\"archiveStatusMessage\":\"datasetCreated\",\"retrieveStatusMessage\":\"\",\"retrieveIntegrityCheck\":false,\"_id\":\"642c1bf03fc7fbae00ff5c84\",\"archiveRetentionTime\":\"2023-04-02T00:00:00.000Z\",\"dateOfPublishing\":\"2023-04-02T00:00:00.000Z\"},\"techniques\":[],\"sharedWith\":[],\"scientificMetadata\":{\"type\":\"string\",\"value\":{\"a\":\"field\"}},\"principalInvestigator\":\"A. Mouse\",\"endTime\":\"2023-04-04T12:45:33.910Z\",\"creationLocation\":\"Magrathea\",\"dataFormat\":\"planet\",\"proposalId\":\"deepthought\",\"sampleId\":\"gargleblaster\",\"instrumentId\":\"earth\",\"inputDatasets\":[],\"usedSoftware\":[],\"pid\":\"PID.SAMPLE.PREFIX/d6fb46ee-8aaf-40b7-b7a6-65956a043ad9\",\"history\":[],\"relationships\":[],\"attachments\":[],\"origdatablocks\":[],\"datablocks\":[],\"createdAt\":\"2023-04-04T12:45:36.318Z\",\"updatedAt\":\"2023-04-04T12:45:36.318Z\",\"classification\":\"IN=medium,AV=low,CO=low\",\"__v\":0,\"id\":\"PID.SAMPLE.PREFIX/d6fb46ee-8aaf-40b7-b7a6-65956a043ad9\"},{\"_id\":\"PID.SAMPLE.PREFIX/6493cd66-1859-46bd-8163-de838ea944cf\",\"createdBy\":\"ingestor\",\"updatedBy\":\"ingestor\",\"ownerGroup\":\"ingestor\",\"accessGroups\":[],\"owner\":\"ingestor\",\"ownerEmail\":\"scicatingestor@your.site\",\"contactEmail\":\"slartibartfast@magrathea.org\",\"sourceFolder\":\"/foo/bar\",\"sourceFolderHost\":\"s3.heartofgold.org\",\"size\":42,\"packedSize\":0,\"numberOfFiles\":0,\"numberOfFilesArchived\":0,\"creationTime\":\"2023-04-04T12:45:33.910Z\",\"type\":\"raw\",\"keywords\":[],\"datasetName\":\"a BIGGER guide book\",\"isPublished\":false,\"datasetlifecycle\":{\"archivable\":true,\"retrievable\":false,\"publishable\":false,\"dateOfDiskPurging\":\"2023-04-04T11:56:40.368Z\",\"publishedOn\":\"2023-04-04T11:56:40.368Z\",\"isOnCentralDisk\":true,\"archiveStatusMessage\":\"datasetCreated\",\"retrieveStatusMessage\":\"\",\"retrieveIntegrityCheck\":false,\"_id\":\"642c1bf13fc7fbae00ff5c8a\",\"archiveRetentionTime\":\"2023-04-02T00:00:00.000Z\",\"dateOfPublishing\":\"2023-04-02T00:00:00.000Z\"},\"techniques\":[],\"sharedWith\":[],\"scientificMetadata\":{\"type\":\"string\",\"value\":{\"a\":\"field\"}},\"principalInvestigator\":\"A. Mouse\",\"endTime\":\"2023-04-04T12:45:33.910Z\",\"creationLocation\":\"Magrathea\",\"dataFormat\":\"planet\",\"proposalId\":\"deepthought\",\"sampleId\":\"gargleblaster\",\"instrumentId\":\"earth\",\"inputDatasets\":[],\"usedSoftware\":[],\"pid\":\"PID.SAMPLE.PREFIX/6493cd66-1859-46bd-8163-de838ea944cf\",\"history\":[],\"relationships\":[],\"attachments\":[],\"origdatablocks\":[],\"datablocks\":[],\"createdAt\":\"2023-04-04T12:45:37.125Z\",\"updatedAt\":\"2023-04-04T12:45:37.125Z\",\"classification\":\"IN=medium,AV=low,CO=low\",\"__v\":0,\"id\":\"PID.SAMPLE.PREFIX/6493cd66-1859-46bd-8163-de838ea944cf\"}]\n"
     ]
    }
   ],
   "source": [
    "# Can you read as ingestor?\n",
    "r = requests.request('get',BASE_URL + 'Datasets', json= {\"where\": {\"owner\": \"user1\"}},\n",
    "                          headers={'Authorization': f'Bearer {token}'})\n",
    "\n",
    "print(r.text)"
   ]
  },
  {
   "cell_type": "code",
   "execution_count": 15,
   "id": "756e260b",
   "metadata": {},
   "outputs": [
    {
     "name": "stdout",
     "output_type": "stream",
     "text": [
      "[{\"_id\":\"PID.SAMPLE.PREFIX/c66c8f30-29a7-4a94-9ee9-a3661fb67908\",\"createdBy\":\"user1\",\"updatedBy\":\"user1\",\"ownerGroup\":\"group1\",\"accessGroups\":[],\"owner\":\"user1\",\"ownerEmail\":\"jeltz@vogons.org\",\"contactEmail\":\"jeltz@vogons.org\",\"sourceFolder\":\"/foo/bar\",\"sourceFolderHost\":\"s3.vogscloud.org\",\"size\":42,\"packedSize\":0,\"numberOfFiles\":0,\"numberOfFilesArchived\":0,\"creationTime\":\"2023-04-04T12:29:03.957Z\",\"type\":\"raw\",\"keywords\":[],\"datasetName\":\"Intergalatic Highway\",\"isPublished\":false,\"datasetlifecycle\":{\"archivable\":true,\"retrievable\":false,\"publishable\":false,\"dateOfDiskPurging\":\"2023-04-04T11:56:40.368Z\",\"publishedOn\":\"2023-04-04T11:56:40.368Z\",\"isOnCentralDisk\":true,\"archiveStatusMessage\":\"datasetCreated\",\"retrieveStatusMessage\":\"\",\"retrieveIntegrityCheck\":false,\"_id\":\"642c18ec3fc7fbae00ff5c70\",\"archiveRetentionTime\":\"2023-04-02T00:00:00.000Z\",\"dateOfPublishing\":\"2023-04-02T00:00:00.000Z\"},\"techniques\":[],\"sharedWith\":[],\"scientificMetadata\":{\"type\":\"string\",\"value\":{\"a\":\"field\"}},\"principalInvestigator\":\"A. Vogon\",\"endTime\":\"2023-04-04T12:29:03.957Z\",\"creationLocation\":\"Vogsphere\",\"dataFormat\":\"highway\",\"proposalId\":\"Demolition of Earth\",\"sampleId\":\"\",\"instrumentId\":\"bulldozer\",\"inputDatasets\":[],\"usedSoftware\":[],\"pid\":\"PID.SAMPLE.PREFIX/c66c8f30-29a7-4a94-9ee9-a3661fb67908\",\"history\":[],\"relationships\":[],\"attachments\":[],\"origdatablocks\":[],\"datablocks\":[],\"createdAt\":\"2023-04-04T12:32:44.589Z\",\"updatedAt\":\"2023-04-04T12:32:44.589Z\",\"classification\":\"IN=medium,AV=low,CO=low\",\"__v\":0,\"id\":\"PID.SAMPLE.PREFIX/c66c8f30-29a7-4a94-9ee9-a3661fb67908\"},{\"_id\":\"PID.SAMPLE.PREFIX/10f6c5f6-0716-48d0-8856-5692f9ec1828\",\"createdBy\":\"user1\",\"updatedBy\":\"user1\",\"ownerGroup\":\"group1\",\"accessGroups\":[],\"owner\":\"user1\",\"ownerEmail\":\"jeltz@vogons.org\",\"contactEmail\":\"jeltz@vogons.org\",\"sourceFolder\":\"/foo/bar\",\"sourceFolderHost\":\"s3.vogscloud.org\",\"size\":42,\"packedSize\":0,\"numberOfFiles\":0,\"numberOfFilesArchived\":0,\"creationTime\":\"2023-04-04T12:45:48.754Z\",\"type\":\"raw\",\"keywords\":[],\"datasetName\":\"Intergalatic Highway\",\"isPublished\":false,\"datasetlifecycle\":{\"archivable\":true,\"retrievable\":false,\"publishable\":false,\"dateOfDiskPurging\":\"2023-04-04T11:56:40.368Z\",\"publishedOn\":\"2023-04-04T11:56:40.368Z\",\"isOnCentralDisk\":true,\"archiveStatusMessage\":\"datasetCreated\",\"retrieveStatusMessage\":\"\",\"retrieveIntegrityCheck\":false,\"_id\":\"642c1bfe3fc7fbae00ff5ca1\",\"archiveRetentionTime\":\"2023-04-02T00:00:00.000Z\",\"dateOfPublishing\":\"2023-04-02T00:00:00.000Z\"},\"techniques\":[],\"sharedWith\":[],\"scientificMetadata\":{\"type\":\"string\",\"value\":{\"a\":\"field\"}},\"principalInvestigator\":\"A. Vogon\",\"endTime\":\"2023-04-04T12:45:48.754Z\",\"creationLocation\":\"Vogsphere\",\"dataFormat\":\"highway\",\"proposalId\":\"Demolition of Earth\",\"sampleId\":\"\",\"instrumentId\":\"bulldozer\",\"inputDatasets\":[],\"usedSoftware\":[],\"pid\":\"PID.SAMPLE.PREFIX/10f6c5f6-0716-48d0-8856-5692f9ec1828\",\"history\":[],\"relationships\":[],\"attachments\":[],\"origdatablocks\":[],\"datablocks\":[],\"createdAt\":\"2023-04-04T12:45:50.227Z\",\"updatedAt\":\"2023-04-04T12:45:50.227Z\",\"classification\":\"IN=medium,AV=low,CO=low\",\"__v\":0,\"id\":\"PID.SAMPLE.PREFIX/10f6c5f6-0716-48d0-8856-5692f9ec1828\"},{\"_id\":\"PID.SAMPLE.PREFIX/e212c212-aa8a-4c86-aefa-d52ef7df16ef\",\"createdBy\":\"user1\",\"updatedBy\":\"user1\",\"ownerGroup\":\"group1\",\"accessGroups\":[],\"owner\":\"user1\",\"ownerEmail\":\"jeltz@vogons.org\",\"contactEmail\":\"jeltz@vogons.org\",\"sourceFolder\":\"/foo/bar\",\"sourceFolderHost\":\"s3.vogscloud.org\",\"size\":42,\"packedSize\":0,\"numberOfFiles\":0,\"numberOfFilesArchived\":0,\"creationTime\":\"2023-04-04T12:45:48.754Z\",\"type\":\"raw\",\"keywords\":[],\"datasetName\":\"Intergalatic Highway\",\"isPublished\":false,\"datasetlifecycle\":{\"archivable\":true,\"retrievable\":false,\"publishable\":false,\"dateOfDiskPurging\":\"2023-04-04T11:56:40.368Z\",\"publishedOn\":\"2023-04-04T11:56:40.368Z\",\"isOnCentralDisk\":true,\"archiveStatusMessage\":\"datasetCreated\",\"retrieveStatusMessage\":\"\",\"retrieveIntegrityCheck\":false,\"_id\":\"642c1bfe3fc7fbae00ff5cad\",\"archiveRetentionTime\":\"2023-04-02T00:00:00.000Z\",\"dateOfPublishing\":\"2023-04-02T00:00:00.000Z\"},\"techniques\":[],\"sharedWith\":[],\"scientificMetadata\":{\"type\":\"string\",\"value\":{\"a\":\"field\"}},\"principalInvestigator\":\"A. Vogon\",\"endTime\":\"2023-04-04T12:45:48.754Z\",\"creationLocation\":\"Vogsphere\",\"dataFormat\":\"highway\",\"proposalId\":\"Demolition of Earth\",\"sampleId\":\"\",\"instrumentId\":\"bulldozer\",\"inputDatasets\":[],\"usedSoftware\":[],\"pid\":\"PID.SAMPLE.PREFIX/e212c212-aa8a-4c86-aefa-d52ef7df16ef\",\"history\":[],\"relationships\":[],\"attachments\":[],\"origdatablocks\":[],\"datablocks\":[],\"createdAt\":\"2023-04-04T12:45:50.401Z\",\"updatedAt\":\"2023-04-04T12:45:50.401Z\",\"classification\":\"IN=medium,AV=low,CO=low\",\"__v\":0,\"id\":\"PID.SAMPLE.PREFIX/e212c212-aa8a-4c86-aefa-d52ef7df16ef\"}]\n"
     ]
    }
   ],
   "source": [
    "# Can you read as user?\n",
    "r = requests.request('get',BASE_URL + 'Datasets', json= {\"where\": {\"owner\": \"user1\"}},\n",
    "                          headers={'Authorization': f'Bearer {user_token}'})\n",
    "\n",
    "print(r.text)\n"
   ]
  },
  {
   "cell_type": "code",
   "execution_count": null,
   "id": "de191502",
   "metadata": {},
   "outputs": [],
   "source": []
  }
 ],
 "metadata": {
  "kernelspec": {
   "display_name": "Python 3 (ipykernel)",
   "language": "python",
   "name": "python3"
  },
  "language_info": {
   "codemirror_mode": {
    "name": "ipython",
    "version": 3
   },
   "file_extension": ".py",
   "mimetype": "text/x-python",
   "name": "python",
   "nbconvert_exporter": "python",
   "pygments_lexer": "ipython3",
   "version": "3.10.6"
  }
 },
 "nbformat": 4,
 "nbformat_minor": 5
}
