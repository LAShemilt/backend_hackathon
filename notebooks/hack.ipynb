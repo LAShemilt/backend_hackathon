{
 "cells": [
  {
   "cell_type": "code",
   "execution_count": null,
   "id": "31394ab8-b6a4-49ae-8e50-47213a81135a",
   "metadata": {},
   "outputs": [],
   "source": [
    "%load_ext autoreload\n",
    "%autoreload 2"
   ]
  },
  {
   "cell_type": "code",
   "execution_count": null,
   "id": "d2e9576e-991c-4b58-a838-f0eb3682e3fe",
   "metadata": {},
   "outputs": [],
   "source": [
    "import json\n",
    "\n",
    "import httpx\n",
    "\n",
    "from hackathon import read_dataset, read_sample\n",
    "\n",
    "API_URL = \"http://localhost:3000/api/v3\""
   ]
  },
  {
   "cell_type": "code",
   "execution_count": null,
   "id": "bd79dc49-9634-4352-bc62-782d375b0374",
   "metadata": {},
   "outputs": [],
   "source": [
    "req = httpx.Client().post(API_URL + \"/auth/login\", data = {\n",
    "  \"username\": \"slartibartfast\",\n",
    "  \"password\": \"magrathea4ever\"\n",
    "})\n",
    "access_token = req.json()['access_token']\n",
    "\n",
    "client = httpx.Client(base_url=API_URL, headers={\"Authorization\": f\"Bearer {access_token}\"})"
   ]
  },
  {
   "cell_type": "code",
   "execution_count": null,
   "id": "69b9118d-fdd7-4185-b78d-ee3adacdd6c1",
   "metadata": {},
   "outputs": [],
   "source": [
    "client.get(\"/auth/whoami\").json()"
   ]
  },
  {
   "cell_type": "markdown",
   "id": "a35c63ea-fb72-4e61-886d-fd0e827d1fca",
   "metadata": {},
   "source": [
    "## Try creating a technique\n"
   ]
  },
  {
   "cell_type": "code",
   "execution_count": null,
   "id": "03ef9761-4f17-45d1-bda3-27fbd3cdb023",
   "metadata": {},
   "outputs": [],
   "source": [
    "dataset = read_dataset()\n",
    "response = client.post(\"/datasets\", data=dataset)\n",
    "response.json()\n"
   ]
  },
  {
   "cell_type": "markdown",
   "id": "871425bd-af7f-4f4c-af7e-ddee968b68b1",
   "metadata": {},
   "source": [
    "## Try creating a proposal\n"
   ]
  },
  {
   "cell_type": "code",
   "execution_count": null,
   "id": "51a238df-04d6-4985-b9ba-a93aeba43704",
   "metadata": {},
   "outputs": [],
   "source": [
    "dataset = read_proposal()\n",
    "response = client.post(\"/proposals\", data=dataset)\n",
    "response.json()"
   ]
  },
  {
   "cell_type": "markdown",
   "id": "a60d503d-5aa7-4b19-b942-c75f9e7e1d3a",
   "metadata": {},
   "source": [
    "## Try creating a sample"
   ]
  },
  {
   "cell_type": "code",
   "execution_count": null,
   "id": "999b3e4d-59d6-4a6a-8a8f-44a607b606a4",
   "metadata": {},
   "outputs": [],
   "source": [
    "dataset = read_sample()\n",
    "response = client.post(\"/samples\", data=dataset)\n",
    "response.json()"
   ]
  }
 ],
 "metadata": {
  "kernelspec": {
   "display_name": "Python 3 (ipykernel)",
   "language": "python",
   "name": "python3"
  },
  "language_info": {
   "codemirror_mode": {
    "name": "ipython",
    "version": 3
   },
   "file_extension": ".py",
   "mimetype": "text/x-python",
   "name": "python",
   "nbconvert_exporter": "python",
   "pygments_lexer": "ipython3",
   "version": "3.10.6"
  }
 },
 "nbformat": 4,
 "nbformat_minor": 5
}
